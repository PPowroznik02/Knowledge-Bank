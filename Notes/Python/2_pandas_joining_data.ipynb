{
 "cells": [
  {
   "cell_type": "code",
   "execution_count": 1,
   "id": "1943e6a4",
   "metadata": {},
   "outputs": [],
   "source": [
    "import pandas as pd\n",
    "import numpy as np"
   ]
  },
  {
   "cell_type": "code",
   "execution_count": 2,
   "id": "16d32520",
   "metadata": {},
   "outputs": [],
   "source": [
    "taxi_owners = pd.read_pickle('data/taxi_owners.p')"
   ]
  },
  {
   "cell_type": "markdown",
   "id": "38c6f12b",
   "metadata": {},
   "source": [
    "### Data merging basics\n"
   ]
  },
  {
   "cell_type": "code",
   "execution_count": null,
   "id": "37fdc8f9",
   "metadata": {},
   "outputs": [],
   "source": []
  }
 ],
 "metadata": {
  "kernelspec": {
   "display_name": ".venv",
   "language": "python",
   "name": "python3"
  },
  "language_info": {
   "codemirror_mode": {
    "name": "ipython",
    "version": 3
   },
   "file_extension": ".py",
   "mimetype": "text/x-python",
   "name": "python",
   "nbconvert_exporter": "python",
   "pygments_lexer": "ipython3",
   "version": "3.12.5"
  }
 },
 "nbformat": 4,
 "nbformat_minor": 5
}
